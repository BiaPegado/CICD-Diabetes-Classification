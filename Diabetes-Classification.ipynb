{
 "cells": [
  {
   "cell_type": "code",
   "execution_count": 78,
   "metadata": {
    "colab": {
     "base_uri": "https://localhost:8080/"
    },
    "id": "dZsiQBlGYLYX",
    "outputId": "4b8c0b62-fa4f-458f-e0e4-1f3bdbd77a23"
   },
   "outputs": [
    {
     "data": {
      "text/html": [
       "Tracking run with wandb version 0.18.7"
      ],
      "text/plain": [
       "<IPython.core.display.HTML object>"
      ]
     },
     "metadata": {},
     "output_type": "display_data"
    },
    {
     "data": {
      "text/html": [
       "Run data is saved locally in <code>C:\\Users\\abia0\\OneDrive\\Área de Trabalho\\Projetos\\Faculdade\\topicos_especiais\\Diabetes-Classification\\Diabetes-Prediction\\wandb\\run-20250118_182625-mwt9gjy5</code>"
      ],
      "text/plain": [
       "<IPython.core.display.HTML object>"
      ]
     },
     "metadata": {},
     "output_type": "display_data"
    },
    {
     "data": {
      "text/html": [
       "Syncing run <strong><a href='https://wandb.ai/ana-pegado-121-ufrn/diabetes-classification/runs/mwt9gjy5' target=\"_blank\">fresh-water-18</a></strong> to <a href='https://wandb.ai/ana-pegado-121-ufrn/diabetes-classification' target=\"_blank\">Weights & Biases</a> (<a href='https://wandb.me/developer-guide' target=\"_blank\">docs</a>)<br/>"
      ],
      "text/plain": [
       "<IPython.core.display.HTML object>"
      ]
     },
     "metadata": {},
     "output_type": "display_data"
    },
    {
     "data": {
      "text/html": [
       " View project at <a href='https://wandb.ai/ana-pegado-121-ufrn/diabetes-classification' target=\"_blank\">https://wandb.ai/ana-pegado-121-ufrn/diabetes-classification</a>"
      ],
      "text/plain": [
       "<IPython.core.display.HTML object>"
      ]
     },
     "metadata": {},
     "output_type": "display_data"
    },
    {
     "data": {
      "text/html": [
       " View run at <a href='https://wandb.ai/ana-pegado-121-ufrn/diabetes-classification/runs/mwt9gjy5' target=\"_blank\">https://wandb.ai/ana-pegado-121-ufrn/diabetes-classification/runs/mwt9gjy5</a>"
      ],
      "text/plain": [
       "<IPython.core.display.HTML object>"
      ]
     },
     "metadata": {},
     "output_type": "display_data"
    },
    {
     "data": {
      "text/html": [
       " View run <strong style=\"color:#cdcd00\">fresh-water-18</strong> at: <a href='https://wandb.ai/ana-pegado-121-ufrn/diabetes-classification/runs/mwt9gjy5' target=\"_blank\">https://wandb.ai/ana-pegado-121-ufrn/diabetes-classification/runs/mwt9gjy5</a><br/> View project at: <a href='https://wandb.ai/ana-pegado-121-ufrn/diabetes-classification' target=\"_blank\">https://wandb.ai/ana-pegado-121-ufrn/diabetes-classification</a><br/>Synced 5 W&B file(s), 0 media file(s), 0 artifact file(s) and 0 other file(s)"
      ],
      "text/plain": [
       "<IPython.core.display.HTML object>"
      ]
     },
     "metadata": {},
     "output_type": "display_data"
    },
    {
     "data": {
      "text/html": [
       "Find logs at: <code>.\\wandb\\run-20250118_182625-mwt9gjy5\\logs</code>"
      ],
      "text/plain": [
       "<IPython.core.display.HTML object>"
      ]
     },
     "metadata": {},
     "output_type": "display_data"
    }
   ],
   "source": [
    "import pandas as pd\n",
    "import wandb\n",
    "import params\n",
    "from pycaret import *\n",
    "\n",
    "def _create_table(file_path: str, class_labels):\n",
    "    \"\"\"\n",
    "    Cria uma tabela com os parâmetros especificados e adiciona os dados do arquivo CSV.\n",
    "    \"\"\"\n",
    "    # Colunas especificadas\n",
    "    columns = [str(class_labels[_lab]) for _lab in list(class_labels)]\n",
    "    table = wandb.Table(columns=[\"id\"] + columns)\n",
    "\n",
    "    # Ler os dados do arquivo CSV\n",
    "    data = pd.read_csv(file_path)\n",
    "\n",
    "    # Adicionar os dados na tabela\n",
    "    for idx, row in data.iterrows():\n",
    "      row_id = f\"sample_{idx}\"\n",
    "      table.add_data(row_id, *[row[col] for col in columns])\n",
    "\n",
    "    return table\n",
    "\n",
    "def save_table_wb(file_path, nome):\n",
    "    run = wandb.init(project=params.WANDB_PROJECT, entity=params.ENTITY, job_type=\"upload\", config=params.CONFIG)\n",
    "    \n",
    "    raw_data_at = wandb.Artifact(name=params.RAW_DATA_AT, type=\"raw_data\")\n",
    "    \n",
    "    table = _create_table(file_path, params.BDD_CLASSES)\n",
    "    \n",
    "    raw_data_at.add(table, nome)\n",
    "    \n",
    "    run.log_artifact(raw_data_at)\n",
    "    run.finish()\n",
    "\n",
    "save_table_wb('Data/diabetes_prediction_dataset.csv', 'diabetes_prediction__table')"
   ]
  },
  {
   "cell_type": "code",
   "execution_count": 79,
   "metadata": {
    "colab": {
     "base_uri": "https://localhost:8080/"
    },
    "id": "7BQpbuhtfQpk",
    "outputId": "9ce3348f-78e8-4495-e7c0-5f546c4d560c"
   },
   "outputs": [],
   "source": [
    "from sklearn.utils import resample\n",
    "from sklearn.pipeline import Pipeline\n",
    "from sklearn.compose import ColumnTransformer\n",
    "from sklearn.impute import SimpleImputer\n",
    "from sklearn.preprocessing import OrdinalEncoder, StandardScaler\n",
    "from sklearn.model_selection import train_test_split\n",
    "import pandas as pd\n",
    "\n",
    "\n",
    "def load_df():\n",
    "    df = pd.read_csv('Data/diabetes_prediction_dataset.csv')\n",
    "    return df\n",
    "\n",
    "def balance_df():\n",
    "    df = load_df()\n",
    "    class_majority = df[df['diabetes'] == 0]\n",
    "    class_minority = df[df['diabetes'] == 1]\n",
    "    \n",
    "    class_majority_downsampled = resample(class_majority,\n",
    "                                          replace=False,\n",
    "                                          n_samples=len(class_minority),\n",
    "                                          random_state=42)\n",
    "    \n",
    "    df = pd.concat([class_majority_downsampled, class_minority])\n",
    "    df.to_csv('Data/dataset_balanceado.csv', index=False)\n",
    "    save_table_wb('Data/dataset_balanceado.csv', \"diabetes_prediction__table_balanceada\")\n",
    "    return df\n"
   ]
  },
  {
   "cell_type": "code",
   "execution_count": 80,
   "metadata": {},
   "outputs": [],
   "source": [
    "import great_expectations as ge\n",
    "\n",
    "def set_expectations(df):\n",
    "    diabetes_expectation_suite = ge.core.ExpectationSuite(\n",
    "        expectation_suite_name=\"diabetes_expectation_suite\"\n",
    "    )\n",
    "    \n",
    "    diabetes_expectation_suite.add_expectation(\n",
    "        ge.core.ExpectationConfiguration(\n",
    "            expectation_type=\"expect_column_min_to_be_between\",\n",
    "            kwargs={\n",
    "                \"column\": \"blood_glucose_level\",\n",
    "                \"min_value\": 69,\n",
    "                \"max_value\": 500,\n",
    "                \"strict_min\": True\n",
    "            }\n",
    "        )\n",
    "    )\n",
    "    \n",
    "    diabetes_expectation_suite.add_expectation(\n",
    "        ge.core.ExpectationConfiguration(\n",
    "            expectation_type=\"expect_column_values_to_be_between\",\n",
    "            kwargs={\n",
    "                \"column\": \"bmi\",\n",
    "                \"min_value\": 9,\n",
    "                \"max_value\": 150\n",
    "            }\n",
    "        )\n",
    "    )\n",
    "    \n",
    "    diabetes_expectation_suite.add_expectation(\n",
    "        ge.core.ExpectationConfiguration(\n",
    "            expectation_type=\"expect_column_values_to_be_in_set\",\n",
    "            kwargs={\n",
    "                \"column\": \"hypertension\",\n",
    "                \"value_set\": [0, 1]\n",
    "            }\n",
    "        )\n",
    "    )\n",
    "    \n",
    "    data_asset = ge.from_pandas(df)\n",
    "    validation_results = data_asset.validate(expectation_suite=diabetes_expectation_suite)\n",
    "    \n",
    "    assert validation_results.success, \"Interrompendo execução: validação falhou.\"\n"
   ]
  },
  {
   "cell_type": "code",
   "execution_count": 91,
   "metadata": {
    "colab": {
     "base_uri": "https://localhost:8080/",
     "height": 1000,
     "referenced_widgets": [
      "ff432b32831f4fdf8538f5ae191b8707",
      "35275507c6b34328a55e485f0ac65f7c",
      "662020745ac94498b2dcfbb0a2dab086",
      "6898246583cb4d42a46789e2cf14c7ba",
      "18415f31ffa040369ebf796f1cd5f128",
      "82fdc2dc56d6495ab8aba28a2c127a1a",
      "991304f9c63c485da13d1cb3fdff15e8",
      "7e881ed6050b485cb6f6c17723136d0e",
      "4c699eec2fc74d93b3f2fba18b9bdfe4",
      "51691a6da9e2435ba91fe38ef80891cc",
      "c6743865112240bb8f7fe58497e11cac"
     ]
    },
    "id": "HazW_loFoPgY",
    "outputId": "3041e337-cddd-44fc-beb7-4c7d69e8d2c9",
    "scrolled": true
   },
   "outputs": [],
   "source": [
    "from pycaret.classification import *\n",
    "import os\n",
    "from sklearn.metrics import accuracy_score\n",
    "from sklearn.metrics import accuracy_score, recall_score, precision_score, f1_score, roc_auc_score\n",
    "import wandb\n",
    "\n",
    "def upload_metrics_to_wandb(accuracy, recall, precision, f1):\n",
    "    metrics_table = wandb.Table(columns=[\"Metric\", \"Value\"])\n",
    "    metrics_table.add_data(\"Accuracy\", accuracy)\n",
    "    metrics_table.add_data(\"Recall\", recall)\n",
    "    metrics_table.add_data(\"Precision\", precision)\n",
    "    metrics_table.add_data(\"F1-Score\", f1)\n",
    "    wandb.log({\"Model Metrics\": metrics_table})\n",
    "\n",
    "def find_model():\n",
    "    run = wandb.init(project=params.WANDB_PROJECT, entity=params.ENTITY, job_type=\"upload\", config=params.CONFIG)\n",
    "    \n",
    "    exp = ClassificationExperiment()\n",
    "    exp.setup(df, target='diabetes', session_id=123)\n",
    "    \n",
    "    best = exp.compare_models()\n",
    "    best_tuned = exp.tune_model(best)\n",
    "    print(best_tuned)\n",
    "\n",
    "    exp.plot_model(best, plot='feature', save=True)\n",
    "    wandb.log({\"feature_importance\": wandb.Image('Feature Importance.png')})\n",
    "    \n",
    "    final_model = exp.finalize_model(best_tuned)\n",
    "    exp.save_model(final_model, 'Model/diabetes_model')\n",
    "    \n",
    "    evaluation_results = exp.evaluate_model(final_model)\n",
    "    \n",
    "    filename = \"confusion_matrix.png\"\n",
    "    exp.plot_model(final_model, plot=\"confusion_matrix\", save=True)\n",
    "    wandb.log({\"Matriz de Confusão\": wandb.Image('Confusion Matrix.png')})\n",
    "    \n",
    "    predictions = exp.predict_model(final_model)\n",
    "    \n",
    "    y_true = predictions['diabetes'] \n",
    "    y_pred = predictions['prediction_label'] \n",
    "    \n",
    "    accuracy = accuracy_score(y_true, y_pred)\n",
    "    recall = recall_score(y_true, y_pred)\n",
    "    precision = precision_score(y_true, y_pred)\n",
    "    f1 = f1_score(y_true, y_pred)\n",
    "\n",
    "    upload_metrics_to_wandb(accuracy, recall, precision, f1)\n",
    "\n",
    "    with open('Results/metrics.txt', 'w') as f:\n",
    "        f.write(f\"Acuracia do modelo: {round(accuracy, 3)}\\n\")\n",
    "        f.write(f\"Recall: {round(recall, 3)}\\n\")\n",
    "        f.write(f\"Precisão: {round(precision, 3)}\\n\")\n",
    "        f.write(f\"F1-Score: {round(f1, 3)}\\n\")\n",
    "    \n",
    "    model_filename = 'Model/diabetes_model.pkl'\n",
    "    artifact = wandb.Artifact('diabetes_model', type='model')\n",
    "    artifact.add_file(model_filename)\n",
    "    wandb.log_artifact(artifact)\n",
    "    \n",
    "    wandb.finish()\n",
    "\n"
   ]
  },
  {
   "cell_type": "code",
   "execution_count": 92,
   "metadata": {
    "colab": {
     "base_uri": "https://localhost:8080/",
     "height": 485
    },
    "id": "9CKSZiRXqTw2",
    "outputId": "22d0febb-50d4-4ba6-bdaf-b167b6ef7f37"
   },
   "outputs": [
    {
     "data": {
      "text/html": [
       "Tracking run with wandb version 0.18.7"
      ],
      "text/plain": [
       "<IPython.core.display.HTML object>"
      ]
     },
     "metadata": {},
     "output_type": "display_data"
    },
    {
     "data": {
      "text/html": [
       "Run data is saved locally in <code>C:\\Users\\abia0\\OneDrive\\Área de Trabalho\\Projetos\\Faculdade\\topicos_especiais\\Diabetes-Classification\\Diabetes-Prediction\\wandb\\run-20250118_190249-q58w3lsf</code>"
      ],
      "text/plain": [
       "<IPython.core.display.HTML object>"
      ]
     },
     "metadata": {},
     "output_type": "display_data"
    },
    {
     "data": {
      "text/html": [
       "Syncing run <strong><a href='https://wandb.ai/ana-pegado-121-ufrn/diabetes-classification/runs/q58w3lsf' target=\"_blank\">distinctive-resonance-26</a></strong> to <a href='https://wandb.ai/ana-pegado-121-ufrn/diabetes-classification' target=\"_blank\">Weights & Biases</a> (<a href='https://wandb.me/developer-guide' target=\"_blank\">docs</a>)<br/>"
      ],
      "text/plain": [
       "<IPython.core.display.HTML object>"
      ]
     },
     "metadata": {},
     "output_type": "display_data"
    },
    {
     "data": {
      "text/html": [
       " View project at <a href='https://wandb.ai/ana-pegado-121-ufrn/diabetes-classification' target=\"_blank\">https://wandb.ai/ana-pegado-121-ufrn/diabetes-classification</a>"
      ],
      "text/plain": [
       "<IPython.core.display.HTML object>"
      ]
     },
     "metadata": {},
     "output_type": "display_data"
    },
    {
     "data": {
      "text/html": [
       " View run at <a href='https://wandb.ai/ana-pegado-121-ufrn/diabetes-classification/runs/q58w3lsf' target=\"_blank\">https://wandb.ai/ana-pegado-121-ufrn/diabetes-classification/runs/q58w3lsf</a>"
      ],
      "text/plain": [
       "<IPython.core.display.HTML object>"
      ]
     },
     "metadata": {},
     "output_type": "display_data"
    },
    {
     "data": {
      "text/html": [
       " View run <strong style=\"color:#cdcd00\">distinctive-resonance-26</strong> at: <a href='https://wandb.ai/ana-pegado-121-ufrn/diabetes-classification/runs/q58w3lsf' target=\"_blank\">https://wandb.ai/ana-pegado-121-ufrn/diabetes-classification/runs/q58w3lsf</a><br/> View project at: <a href='https://wandb.ai/ana-pegado-121-ufrn/diabetes-classification' target=\"_blank\">https://wandb.ai/ana-pegado-121-ufrn/diabetes-classification</a><br/>Synced 5 W&B file(s), 0 media file(s), 0 artifact file(s) and 0 other file(s)"
      ],
      "text/plain": [
       "<IPython.core.display.HTML object>"
      ]
     },
     "metadata": {},
     "output_type": "display_data"
    },
    {
     "data": {
      "text/html": [
       "Find logs at: <code>.\\wandb\\run-20250118_190249-q58w3lsf\\logs</code>"
      ],
      "text/plain": [
       "<IPython.core.display.HTML object>"
      ]
     },
     "metadata": {},
     "output_type": "display_data"
    },
    {
     "data": {
      "text/html": [
       "Tracking run with wandb version 0.18.7"
      ],
      "text/plain": [
       "<IPython.core.display.HTML object>"
      ]
     },
     "metadata": {},
     "output_type": "display_data"
    },
    {
     "data": {
      "text/html": [
       "Run data is saved locally in <code>C:\\Users\\abia0\\OneDrive\\Área de Trabalho\\Projetos\\Faculdade\\topicos_especiais\\Diabetes-Classification\\Diabetes-Prediction\\wandb\\run-20250118_190255-n9imf1ld</code>"
      ],
      "text/plain": [
       "<IPython.core.display.HTML object>"
      ]
     },
     "metadata": {},
     "output_type": "display_data"
    },
    {
     "data": {
      "text/html": [
       "Syncing run <strong><a href='https://wandb.ai/ana-pegado-121-ufrn/diabetes-classification/runs/n9imf1ld' target=\"_blank\">pious-microwave-27</a></strong> to <a href='https://wandb.ai/ana-pegado-121-ufrn/diabetes-classification' target=\"_blank\">Weights & Biases</a> (<a href='https://wandb.me/developer-guide' target=\"_blank\">docs</a>)<br/>"
      ],
      "text/plain": [
       "<IPython.core.display.HTML object>"
      ]
     },
     "metadata": {},
     "output_type": "display_data"
    },
    {
     "data": {
      "text/html": [
       " View project at <a href='https://wandb.ai/ana-pegado-121-ufrn/diabetes-classification' target=\"_blank\">https://wandb.ai/ana-pegado-121-ufrn/diabetes-classification</a>"
      ],
      "text/plain": [
       "<IPython.core.display.HTML object>"
      ]
     },
     "metadata": {},
     "output_type": "display_data"
    },
    {
     "data": {
      "text/html": [
       " View run at <a href='https://wandb.ai/ana-pegado-121-ufrn/diabetes-classification/runs/n9imf1ld' target=\"_blank\">https://wandb.ai/ana-pegado-121-ufrn/diabetes-classification/runs/n9imf1ld</a>"
      ],
      "text/plain": [
       "<IPython.core.display.HTML object>"
      ]
     },
     "metadata": {},
     "output_type": "display_data"
    },
    {
     "data": {
      "text/html": [
       "<style type=\"text/css\">\n",
       "#T_833ff_row9_col1 {\n",
       "  background-color: lightgreen;\n",
       "}\n",
       "</style>\n",
       "<table id=\"T_833ff\">\n",
       "  <thead>\n",
       "    <tr>\n",
       "      <th class=\"blank level0\" >&nbsp;</th>\n",
       "      <th id=\"T_833ff_level0_col0\" class=\"col_heading level0 col0\" >Description</th>\n",
       "      <th id=\"T_833ff_level0_col1\" class=\"col_heading level0 col1\" >Value</th>\n",
       "    </tr>\n",
       "  </thead>\n",
       "  <tbody>\n",
       "    <tr>\n",
       "      <th id=\"T_833ff_level0_row0\" class=\"row_heading level0 row0\" >0</th>\n",
       "      <td id=\"T_833ff_row0_col0\" class=\"data row0 col0\" >Session id</td>\n",
       "      <td id=\"T_833ff_row0_col1\" class=\"data row0 col1\" >123</td>\n",
       "    </tr>\n",
       "    <tr>\n",
       "      <th id=\"T_833ff_level0_row1\" class=\"row_heading level0 row1\" >1</th>\n",
       "      <td id=\"T_833ff_row1_col0\" class=\"data row1 col0\" >Target</td>\n",
       "      <td id=\"T_833ff_row1_col1\" class=\"data row1 col1\" >diabetes</td>\n",
       "    </tr>\n",
       "    <tr>\n",
       "      <th id=\"T_833ff_level0_row2\" class=\"row_heading level0 row2\" >2</th>\n",
       "      <td id=\"T_833ff_row2_col0\" class=\"data row2 col0\" >Target type</td>\n",
       "      <td id=\"T_833ff_row2_col1\" class=\"data row2 col1\" >Binary</td>\n",
       "    </tr>\n",
       "    <tr>\n",
       "      <th id=\"T_833ff_level0_row3\" class=\"row_heading level0 row3\" >3</th>\n",
       "      <td id=\"T_833ff_row3_col0\" class=\"data row3 col0\" >Original data shape</td>\n",
       "      <td id=\"T_833ff_row3_col1\" class=\"data row3 col1\" >(17000, 9)</td>\n",
       "    </tr>\n",
       "    <tr>\n",
       "      <th id=\"T_833ff_level0_row4\" class=\"row_heading level0 row4\" >4</th>\n",
       "      <td id=\"T_833ff_row4_col0\" class=\"data row4 col0\" >Transformed data shape</td>\n",
       "      <td id=\"T_833ff_row4_col1\" class=\"data row4 col1\" >(17000, 16)</td>\n",
       "    </tr>\n",
       "    <tr>\n",
       "      <th id=\"T_833ff_level0_row5\" class=\"row_heading level0 row5\" >5</th>\n",
       "      <td id=\"T_833ff_row5_col0\" class=\"data row5 col0\" >Transformed train set shape</td>\n",
       "      <td id=\"T_833ff_row5_col1\" class=\"data row5 col1\" >(11900, 16)</td>\n",
       "    </tr>\n",
       "    <tr>\n",
       "      <th id=\"T_833ff_level0_row6\" class=\"row_heading level0 row6\" >6</th>\n",
       "      <td id=\"T_833ff_row6_col0\" class=\"data row6 col0\" >Transformed test set shape</td>\n",
       "      <td id=\"T_833ff_row6_col1\" class=\"data row6 col1\" >(5100, 16)</td>\n",
       "    </tr>\n",
       "    <tr>\n",
       "      <th id=\"T_833ff_level0_row7\" class=\"row_heading level0 row7\" >7</th>\n",
       "      <td id=\"T_833ff_row7_col0\" class=\"data row7 col0\" >Numeric features</td>\n",
       "      <td id=\"T_833ff_row7_col1\" class=\"data row7 col1\" >6</td>\n",
       "    </tr>\n",
       "    <tr>\n",
       "      <th id=\"T_833ff_level0_row8\" class=\"row_heading level0 row8\" >8</th>\n",
       "      <td id=\"T_833ff_row8_col0\" class=\"data row8 col0\" >Categorical features</td>\n",
       "      <td id=\"T_833ff_row8_col1\" class=\"data row8 col1\" >2</td>\n",
       "    </tr>\n",
       "    <tr>\n",
       "      <th id=\"T_833ff_level0_row9\" class=\"row_heading level0 row9\" >9</th>\n",
       "      <td id=\"T_833ff_row9_col0\" class=\"data row9 col0\" >Preprocess</td>\n",
       "      <td id=\"T_833ff_row9_col1\" class=\"data row9 col1\" >True</td>\n",
       "    </tr>\n",
       "    <tr>\n",
       "      <th id=\"T_833ff_level0_row10\" class=\"row_heading level0 row10\" >10</th>\n",
       "      <td id=\"T_833ff_row10_col0\" class=\"data row10 col0\" >Imputation type</td>\n",
       "      <td id=\"T_833ff_row10_col1\" class=\"data row10 col1\" >simple</td>\n",
       "    </tr>\n",
       "    <tr>\n",
       "      <th id=\"T_833ff_level0_row11\" class=\"row_heading level0 row11\" >11</th>\n",
       "      <td id=\"T_833ff_row11_col0\" class=\"data row11 col0\" >Numeric imputation</td>\n",
       "      <td id=\"T_833ff_row11_col1\" class=\"data row11 col1\" >mean</td>\n",
       "    </tr>\n",
       "    <tr>\n",
       "      <th id=\"T_833ff_level0_row12\" class=\"row_heading level0 row12\" >12</th>\n",
       "      <td id=\"T_833ff_row12_col0\" class=\"data row12 col0\" >Categorical imputation</td>\n",
       "      <td id=\"T_833ff_row12_col1\" class=\"data row12 col1\" >mode</td>\n",
       "    </tr>\n",
       "    <tr>\n",
       "      <th id=\"T_833ff_level0_row13\" class=\"row_heading level0 row13\" >13</th>\n",
       "      <td id=\"T_833ff_row13_col0\" class=\"data row13 col0\" >Maximum one-hot encoding</td>\n",
       "      <td id=\"T_833ff_row13_col1\" class=\"data row13 col1\" >25</td>\n",
       "    </tr>\n",
       "    <tr>\n",
       "      <th id=\"T_833ff_level0_row14\" class=\"row_heading level0 row14\" >14</th>\n",
       "      <td id=\"T_833ff_row14_col0\" class=\"data row14 col0\" >Encoding method</td>\n",
       "      <td id=\"T_833ff_row14_col1\" class=\"data row14 col1\" >None</td>\n",
       "    </tr>\n",
       "    <tr>\n",
       "      <th id=\"T_833ff_level0_row15\" class=\"row_heading level0 row15\" >15</th>\n",
       "      <td id=\"T_833ff_row15_col0\" class=\"data row15 col0\" >Fold Generator</td>\n",
       "      <td id=\"T_833ff_row15_col1\" class=\"data row15 col1\" >StratifiedKFold</td>\n",
       "    </tr>\n",
       "    <tr>\n",
       "      <th id=\"T_833ff_level0_row16\" class=\"row_heading level0 row16\" >16</th>\n",
       "      <td id=\"T_833ff_row16_col0\" class=\"data row16 col0\" >Fold Number</td>\n",
       "      <td id=\"T_833ff_row16_col1\" class=\"data row16 col1\" >10</td>\n",
       "    </tr>\n",
       "    <tr>\n",
       "      <th id=\"T_833ff_level0_row17\" class=\"row_heading level0 row17\" >17</th>\n",
       "      <td id=\"T_833ff_row17_col0\" class=\"data row17 col0\" >CPU Jobs</td>\n",
       "      <td id=\"T_833ff_row17_col1\" class=\"data row17 col1\" >-1</td>\n",
       "    </tr>\n",
       "    <tr>\n",
       "      <th id=\"T_833ff_level0_row18\" class=\"row_heading level0 row18\" >18</th>\n",
       "      <td id=\"T_833ff_row18_col0\" class=\"data row18 col0\" >Use GPU</td>\n",
       "      <td id=\"T_833ff_row18_col1\" class=\"data row18 col1\" >False</td>\n",
       "    </tr>\n",
       "    <tr>\n",
       "      <th id=\"T_833ff_level0_row19\" class=\"row_heading level0 row19\" >19</th>\n",
       "      <td id=\"T_833ff_row19_col0\" class=\"data row19 col0\" >Log Experiment</td>\n",
       "      <td id=\"T_833ff_row19_col1\" class=\"data row19 col1\" >False</td>\n",
       "    </tr>\n",
       "    <tr>\n",
       "      <th id=\"T_833ff_level0_row20\" class=\"row_heading level0 row20\" >20</th>\n",
       "      <td id=\"T_833ff_row20_col0\" class=\"data row20 col0\" >Experiment Name</td>\n",
       "      <td id=\"T_833ff_row20_col1\" class=\"data row20 col1\" >clf-default-name</td>\n",
       "    </tr>\n",
       "    <tr>\n",
       "      <th id=\"T_833ff_level0_row21\" class=\"row_heading level0 row21\" >21</th>\n",
       "      <td id=\"T_833ff_row21_col0\" class=\"data row21 col0\" >USI</td>\n",
       "      <td id=\"T_833ff_row21_col1\" class=\"data row21 col1\" >907d</td>\n",
       "    </tr>\n",
       "  </tbody>\n",
       "</table>\n"
      ],
      "text/plain": [
       "<pandas.io.formats.style.Styler at 0x24bd7e71fd0>"
      ]
     },
     "metadata": {},
     "output_type": "display_data"
    },
    {
     "data": {
      "text/html": [],
      "text/plain": [
       "<IPython.core.display.HTML object>"
      ]
     },
     "metadata": {},
     "output_type": "display_data"
    },
    {
     "data": {
      "text/html": [
       "<style type=\"text/css\">\n",
       "#T_39424 th {\n",
       "  text-align: left;\n",
       "}\n",
       "#T_39424_row0_col0, #T_39424_row0_col2, #T_39424_row0_col3, #T_39424_row0_col5, #T_39424_row1_col0, #T_39424_row1_col1, #T_39424_row1_col4, #T_39424_row1_col6, #T_39424_row1_col7, #T_39424_row2_col0, #T_39424_row2_col1, #T_39424_row2_col2, #T_39424_row2_col3, #T_39424_row2_col4, #T_39424_row2_col5, #T_39424_row2_col6, #T_39424_row2_col7, #T_39424_row3_col0, #T_39424_row3_col1, #T_39424_row3_col2, #T_39424_row3_col3, #T_39424_row3_col4, #T_39424_row3_col5, #T_39424_row3_col6, #T_39424_row3_col7, #T_39424_row4_col0, #T_39424_row4_col1, #T_39424_row4_col2, #T_39424_row4_col3, #T_39424_row4_col4, #T_39424_row4_col5, #T_39424_row4_col6, #T_39424_row4_col7, #T_39424_row5_col0, #T_39424_row5_col1, #T_39424_row5_col2, #T_39424_row5_col3, #T_39424_row5_col4, #T_39424_row5_col5, #T_39424_row5_col6, #T_39424_row5_col7, #T_39424_row6_col0, #T_39424_row6_col1, #T_39424_row6_col2, #T_39424_row6_col3, #T_39424_row6_col4, #T_39424_row6_col5, #T_39424_row6_col6, #T_39424_row6_col7, #T_39424_row7_col0, #T_39424_row7_col1, #T_39424_row7_col2, #T_39424_row7_col3, #T_39424_row7_col4, #T_39424_row7_col5, #T_39424_row7_col6, #T_39424_row7_col7, #T_39424_row8_col0, #T_39424_row8_col1, #T_39424_row8_col2, #T_39424_row8_col3, #T_39424_row8_col4, #T_39424_row8_col5, #T_39424_row8_col6, #T_39424_row8_col7, #T_39424_row9_col0, #T_39424_row9_col1, #T_39424_row9_col2, #T_39424_row9_col3, #T_39424_row9_col4, #T_39424_row9_col5, #T_39424_row9_col6, #T_39424_row9_col7, #T_39424_row10_col0, #T_39424_row10_col1, #T_39424_row10_col2, #T_39424_row10_col3, #T_39424_row10_col4, #T_39424_row10_col5, #T_39424_row10_col6, #T_39424_row10_col7, #T_39424_row11_col0, #T_39424_row11_col1, #T_39424_row11_col2, #T_39424_row11_col3, #T_39424_row11_col4, #T_39424_row11_col5, #T_39424_row11_col6, #T_39424_row11_col7, #T_39424_row12_col0, #T_39424_row12_col1, #T_39424_row12_col2, #T_39424_row12_col3, #T_39424_row12_col4, #T_39424_row12_col5, #T_39424_row12_col6, #T_39424_row12_col7, #T_39424_row13_col0, #T_39424_row13_col1, #T_39424_row13_col2, #T_39424_row13_col3, #T_39424_row13_col4, #T_39424_row13_col5, #T_39424_row13_col6, #T_39424_row13_col7 {\n",
       "  text-align: left;\n",
       "}\n",
       "#T_39424_row0_col1, #T_39424_row0_col4, #T_39424_row0_col6, #T_39424_row0_col7, #T_39424_row1_col2, #T_39424_row1_col3, #T_39424_row1_col5 {\n",
       "  text-align: left;\n",
       "  background-color: yellow;\n",
       "}\n",
       "#T_39424_row0_col8, #T_39424_row1_col8, #T_39424_row2_col8, #T_39424_row3_col8, #T_39424_row4_col8, #T_39424_row5_col8, #T_39424_row6_col8, #T_39424_row7_col8, #T_39424_row8_col8, #T_39424_row9_col8, #T_39424_row10_col8, #T_39424_row11_col8, #T_39424_row12_col8 {\n",
       "  text-align: left;\n",
       "  background-color: lightgrey;\n",
       "}\n",
       "#T_39424_row13_col8 {\n",
       "  text-align: left;\n",
       "  background-color: yellow;\n",
       "  background-color: lightgrey;\n",
       "}\n",
       "</style>\n",
       "<table id=\"T_39424\">\n",
       "  <thead>\n",
       "    <tr>\n",
       "      <th class=\"blank level0\" >&nbsp;</th>\n",
       "      <th id=\"T_39424_level0_col0\" class=\"col_heading level0 col0\" >Model</th>\n",
       "      <th id=\"T_39424_level0_col1\" class=\"col_heading level0 col1\" >Accuracy</th>\n",
       "      <th id=\"T_39424_level0_col2\" class=\"col_heading level0 col2\" >AUC</th>\n",
       "      <th id=\"T_39424_level0_col3\" class=\"col_heading level0 col3\" >Recall</th>\n",
       "      <th id=\"T_39424_level0_col4\" class=\"col_heading level0 col4\" >Prec.</th>\n",
       "      <th id=\"T_39424_level0_col5\" class=\"col_heading level0 col5\" >F1</th>\n",
       "      <th id=\"T_39424_level0_col6\" class=\"col_heading level0 col6\" >Kappa</th>\n",
       "      <th id=\"T_39424_level0_col7\" class=\"col_heading level0 col7\" >MCC</th>\n",
       "      <th id=\"T_39424_level0_col8\" class=\"col_heading level0 col8\" >TT (Sec)</th>\n",
       "    </tr>\n",
       "  </thead>\n",
       "  <tbody>\n",
       "    <tr>\n",
       "      <th id=\"T_39424_level0_row0\" class=\"row_heading level0 row0\" >ada</th>\n",
       "      <td id=\"T_39424_row0_col0\" class=\"data row0 col0\" >Ada Boost Classifier</td>\n",
       "      <td id=\"T_39424_row0_col1\" class=\"data row0 col1\" >0.9134</td>\n",
       "      <td id=\"T_39424_row0_col2\" class=\"data row0 col2\" >0.9790</td>\n",
       "      <td id=\"T_39424_row0_col3\" class=\"data row0 col3\" >0.9173</td>\n",
       "      <td id=\"T_39424_row0_col4\" class=\"data row0 col4\" >0.9104</td>\n",
       "      <td id=\"T_39424_row0_col5\" class=\"data row0 col5\" >0.9137</td>\n",
       "      <td id=\"T_39424_row0_col6\" class=\"data row0 col6\" >0.8267</td>\n",
       "      <td id=\"T_39424_row0_col7\" class=\"data row0 col7\" >0.8270</td>\n",
       "      <td id=\"T_39424_row0_col8\" class=\"data row0 col8\" >0.0520</td>\n",
       "    </tr>\n",
       "    <tr>\n",
       "      <th id=\"T_39424_level0_row1\" class=\"row_heading level0 row1\" >gbc</th>\n",
       "      <td id=\"T_39424_row1_col0\" class=\"data row1 col0\" >Gradient Boosting Classifier</td>\n",
       "      <td id=\"T_39424_row1_col1\" class=\"data row1 col1\" >0.9129</td>\n",
       "      <td id=\"T_39424_row1_col2\" class=\"data row1 col2\" >0.9796</td>\n",
       "      <td id=\"T_39424_row1_col3\" class=\"data row1 col3\" >0.9225</td>\n",
       "      <td id=\"T_39424_row1_col4\" class=\"data row1 col4\" >0.9054</td>\n",
       "      <td id=\"T_39424_row1_col5\" class=\"data row1 col5\" >0.9138</td>\n",
       "      <td id=\"T_39424_row1_col6\" class=\"data row1 col6\" >0.8259</td>\n",
       "      <td id=\"T_39424_row1_col7\" class=\"data row1 col7\" >0.8263</td>\n",
       "      <td id=\"T_39424_row1_col8\" class=\"data row1 col8\" >0.1190</td>\n",
       "    </tr>\n",
       "    <tr>\n",
       "      <th id=\"T_39424_level0_row2\" class=\"row_heading level0 row2\" >lightgbm</th>\n",
       "      <td id=\"T_39424_row2_col0\" class=\"data row2 col0\" >Light Gradient Boosting Machine</td>\n",
       "      <td id=\"T_39424_row2_col1\" class=\"data row2 col1\" >0.9097</td>\n",
       "      <td id=\"T_39424_row2_col2\" class=\"data row2 col2\" >0.9779</td>\n",
       "      <td id=\"T_39424_row2_col3\" class=\"data row2 col3\" >0.9161</td>\n",
       "      <td id=\"T_39424_row2_col4\" class=\"data row2 col4\" >0.9047</td>\n",
       "      <td id=\"T_39424_row2_col5\" class=\"data row2 col5\" >0.9103</td>\n",
       "      <td id=\"T_39424_row2_col6\" class=\"data row2 col6\" >0.8195</td>\n",
       "      <td id=\"T_39424_row2_col7\" class=\"data row2 col7\" >0.8197</td>\n",
       "      <td id=\"T_39424_row2_col8\" class=\"data row2 col8\" >0.1330</td>\n",
       "    </tr>\n",
       "    <tr>\n",
       "      <th id=\"T_39424_level0_row3\" class=\"row_heading level0 row3\" >rf</th>\n",
       "      <td id=\"T_39424_row3_col0\" class=\"data row3 col0\" >Random Forest Classifier</td>\n",
       "      <td id=\"T_39424_row3_col1\" class=\"data row3 col1\" >0.9013</td>\n",
       "      <td id=\"T_39424_row3_col2\" class=\"data row3 col2\" >0.9722</td>\n",
       "      <td id=\"T_39424_row3_col3\" class=\"data row3 col3\" >0.9040</td>\n",
       "      <td id=\"T_39424_row3_col4\" class=\"data row3 col4\" >0.8993</td>\n",
       "      <td id=\"T_39424_row3_col5\" class=\"data row3 col5\" >0.9016</td>\n",
       "      <td id=\"T_39424_row3_col6\" class=\"data row3 col6\" >0.8027</td>\n",
       "      <td id=\"T_39424_row3_col7\" class=\"data row3 col7\" >0.8028</td>\n",
       "      <td id=\"T_39424_row3_col8\" class=\"data row3 col8\" >0.0970</td>\n",
       "    </tr>\n",
       "    <tr>\n",
       "      <th id=\"T_39424_level0_row4\" class=\"row_heading level0 row4\" >et</th>\n",
       "      <td id=\"T_39424_row4_col0\" class=\"data row4 col0\" >Extra Trees Classifier</td>\n",
       "      <td id=\"T_39424_row4_col1\" class=\"data row4 col1\" >0.8952</td>\n",
       "      <td id=\"T_39424_row4_col2\" class=\"data row4 col2\" >0.9643</td>\n",
       "      <td id=\"T_39424_row4_col3\" class=\"data row4 col3\" >0.8982</td>\n",
       "      <td id=\"T_39424_row4_col4\" class=\"data row4 col4\" >0.8931</td>\n",
       "      <td id=\"T_39424_row4_col5\" class=\"data row4 col5\" >0.8955</td>\n",
       "      <td id=\"T_39424_row4_col6\" class=\"data row4 col6\" >0.7904</td>\n",
       "      <td id=\"T_39424_row4_col7\" class=\"data row4 col7\" >0.7906</td>\n",
       "      <td id=\"T_39424_row4_col8\" class=\"data row4 col8\" >0.0950</td>\n",
       "    </tr>\n",
       "    <tr>\n",
       "      <th id=\"T_39424_level0_row5\" class=\"row_heading level0 row5\" >lda</th>\n",
       "      <td id=\"T_39424_row5_col0\" class=\"data row5 col0\" >Linear Discriminant Analysis</td>\n",
       "      <td id=\"T_39424_row5_col1\" class=\"data row5 col1\" >0.8862</td>\n",
       "      <td id=\"T_39424_row5_col2\" class=\"data row5 col2\" >0.9617</td>\n",
       "      <td id=\"T_39424_row5_col3\" class=\"data row5 col3\" >0.8771</td>\n",
       "      <td id=\"T_39424_row5_col4\" class=\"data row5 col4\" >0.8935</td>\n",
       "      <td id=\"T_39424_row5_col5\" class=\"data row5 col5\" >0.8851</td>\n",
       "      <td id=\"T_39424_row5_col6\" class=\"data row5 col6\" >0.7724</td>\n",
       "      <td id=\"T_39424_row5_col7\" class=\"data row5 col7\" >0.7729</td>\n",
       "      <td id=\"T_39424_row5_col8\" class=\"data row5 col8\" >0.0160</td>\n",
       "    </tr>\n",
       "    <tr>\n",
       "      <th id=\"T_39424_level0_row6\" class=\"row_heading level0 row6\" >ridge</th>\n",
       "      <td id=\"T_39424_row6_col0\" class=\"data row6 col0\" >Ridge Classifier</td>\n",
       "      <td id=\"T_39424_row6_col1\" class=\"data row6 col1\" >0.8861</td>\n",
       "      <td id=\"T_39424_row6_col2\" class=\"data row6 col2\" >0.9617</td>\n",
       "      <td id=\"T_39424_row6_col3\" class=\"data row6 col3\" >0.8770</td>\n",
       "      <td id=\"T_39424_row6_col4\" class=\"data row6 col4\" >0.8935</td>\n",
       "      <td id=\"T_39424_row6_col5\" class=\"data row6 col5\" >0.8850</td>\n",
       "      <td id=\"T_39424_row6_col6\" class=\"data row6 col6\" >0.7723</td>\n",
       "      <td id=\"T_39424_row6_col7\" class=\"data row6 col7\" >0.7727</td>\n",
       "      <td id=\"T_39424_row6_col8\" class=\"data row6 col8\" >0.0140</td>\n",
       "    </tr>\n",
       "    <tr>\n",
       "      <th id=\"T_39424_level0_row7\" class=\"row_heading level0 row7\" >lr</th>\n",
       "      <td id=\"T_39424_row7_col0\" class=\"data row7 col0\" >Logistic Regression</td>\n",
       "      <td id=\"T_39424_row7_col1\" class=\"data row7 col1\" >0.8851</td>\n",
       "      <td id=\"T_39424_row7_col2\" class=\"data row7 col2\" >0.9629</td>\n",
       "      <td id=\"T_39424_row7_col3\" class=\"data row7 col3\" >0.8834</td>\n",
       "      <td id=\"T_39424_row7_col4\" class=\"data row7 col4\" >0.8866</td>\n",
       "      <td id=\"T_39424_row7_col5\" class=\"data row7 col5\" >0.8848</td>\n",
       "      <td id=\"T_39424_row7_col6\" class=\"data row7 col6\" >0.7703</td>\n",
       "      <td id=\"T_39424_row7_col7\" class=\"data row7 col7\" >0.7706</td>\n",
       "      <td id=\"T_39424_row7_col8\" class=\"data row7 col8\" >0.1130</td>\n",
       "    </tr>\n",
       "    <tr>\n",
       "      <th id=\"T_39424_level0_row8\" class=\"row_heading level0 row8\" >dt</th>\n",
       "      <td id=\"T_39424_row8_col0\" class=\"data row8 col0\" >Decision Tree Classifier</td>\n",
       "      <td id=\"T_39424_row8_col1\" class=\"data row8 col1\" >0.8773</td>\n",
       "      <td id=\"T_39424_row8_col2\" class=\"data row8 col2\" >0.8774</td>\n",
       "      <td id=\"T_39424_row8_col3\" class=\"data row8 col3\" >0.8768</td>\n",
       "      <td id=\"T_39424_row8_col4\" class=\"data row8 col4\" >0.8779</td>\n",
       "      <td id=\"T_39424_row8_col5\" class=\"data row8 col5\" >0.8772</td>\n",
       "      <td id=\"T_39424_row8_col6\" class=\"data row8 col6\" >0.7546</td>\n",
       "      <td id=\"T_39424_row8_col7\" class=\"data row8 col7\" >0.7548</td>\n",
       "      <td id=\"T_39424_row8_col8\" class=\"data row8 col8\" >0.0160</td>\n",
       "    </tr>\n",
       "    <tr>\n",
       "      <th id=\"T_39424_level0_row9\" class=\"row_heading level0 row9\" >svm</th>\n",
       "      <td id=\"T_39424_row9_col0\" class=\"data row9 col0\" >SVM - Linear Kernel</td>\n",
       "      <td id=\"T_39424_row9_col1\" class=\"data row9 col1\" >0.8760</td>\n",
       "      <td id=\"T_39424_row9_col2\" class=\"data row9 col2\" >0.9612</td>\n",
       "      <td id=\"T_39424_row9_col3\" class=\"data row9 col3\" >0.8467</td>\n",
       "      <td id=\"T_39424_row9_col4\" class=\"data row9 col4\" >0.9029</td>\n",
       "      <td id=\"T_39424_row9_col5\" class=\"data row9 col5\" >0.8712</td>\n",
       "      <td id=\"T_39424_row9_col6\" class=\"data row9 col6\" >0.7519</td>\n",
       "      <td id=\"T_39424_row9_col7\" class=\"data row9 col7\" >0.7571</td>\n",
       "      <td id=\"T_39424_row9_col8\" class=\"data row9 col8\" >0.0250</td>\n",
       "    </tr>\n",
       "    <tr>\n",
       "      <th id=\"T_39424_level0_row10\" class=\"row_heading level0 row10\" >knn</th>\n",
       "      <td id=\"T_39424_row10_col0\" class=\"data row10 col0\" >K Neighbors Classifier</td>\n",
       "      <td id=\"T_39424_row10_col1\" class=\"data row10 col1\" >0.8522</td>\n",
       "      <td id=\"T_39424_row10_col2\" class=\"data row10 col2\" >0.9276</td>\n",
       "      <td id=\"T_39424_row10_col3\" class=\"data row10 col3\" >0.8573</td>\n",
       "      <td id=\"T_39424_row10_col4\" class=\"data row10 col4\" >0.8488</td>\n",
       "      <td id=\"T_39424_row10_col5\" class=\"data row10 col5\" >0.8529</td>\n",
       "      <td id=\"T_39424_row10_col6\" class=\"data row10 col6\" >0.7044</td>\n",
       "      <td id=\"T_39424_row10_col7\" class=\"data row10 col7\" >0.7045</td>\n",
       "      <td id=\"T_39424_row10_col8\" class=\"data row10 col8\" >0.0300</td>\n",
       "    </tr>\n",
       "    <tr>\n",
       "      <th id=\"T_39424_level0_row11\" class=\"row_heading level0 row11\" >nb</th>\n",
       "      <td id=\"T_39424_row11_col0\" class=\"data row11 col0\" >Naive Bayes</td>\n",
       "      <td id=\"T_39424_row11_col1\" class=\"data row11 col1\" >0.8255</td>\n",
       "      <td id=\"T_39424_row11_col2\" class=\"data row11 col2\" >0.9123</td>\n",
       "      <td id=\"T_39424_row11_col3\" class=\"data row11 col3\" >0.9188</td>\n",
       "      <td id=\"T_39424_row11_col4\" class=\"data row11 col4\" >0.7746</td>\n",
       "      <td id=\"T_39424_row11_col5\" class=\"data row11 col5\" >0.8404</td>\n",
       "      <td id=\"T_39424_row11_col6\" class=\"data row11 col6\" >0.6511</td>\n",
       "      <td id=\"T_39424_row11_col7\" class=\"data row11 col7\" >0.6630</td>\n",
       "      <td id=\"T_39424_row11_col8\" class=\"data row11 col8\" >0.0150</td>\n",
       "    </tr>\n",
       "    <tr>\n",
       "      <th id=\"T_39424_level0_row12\" class=\"row_heading level0 row12\" >qda</th>\n",
       "      <td id=\"T_39424_row12_col0\" class=\"data row12 col0\" >Quadratic Discriminant Analysis</td>\n",
       "      <td id=\"T_39424_row12_col1\" class=\"data row12 col1\" >0.5622</td>\n",
       "      <td id=\"T_39424_row12_col2\" class=\"data row12 col2\" >0.6893</td>\n",
       "      <td id=\"T_39424_row12_col3\" class=\"data row12 col3\" >0.4503</td>\n",
       "      <td id=\"T_39424_row12_col4\" class=\"data row12 col4\" >0.5872</td>\n",
       "      <td id=\"T_39424_row12_col5\" class=\"data row12 col5\" >0.4010</td>\n",
       "      <td id=\"T_39424_row12_col6\" class=\"data row12 col6\" >0.1244</td>\n",
       "      <td id=\"T_39424_row12_col7\" class=\"data row12 col7\" >0.1515</td>\n",
       "      <td id=\"T_39424_row12_col8\" class=\"data row12 col8\" >0.0170</td>\n",
       "    </tr>\n",
       "    <tr>\n",
       "      <th id=\"T_39424_level0_row13\" class=\"row_heading level0 row13\" >dummy</th>\n",
       "      <td id=\"T_39424_row13_col0\" class=\"data row13 col0\" >Dummy Classifier</td>\n",
       "      <td id=\"T_39424_row13_col1\" class=\"data row13 col1\" >0.5000</td>\n",
       "      <td id=\"T_39424_row13_col2\" class=\"data row13 col2\" >0.5000</td>\n",
       "      <td id=\"T_39424_row13_col3\" class=\"data row13 col3\" >0.0000</td>\n",
       "      <td id=\"T_39424_row13_col4\" class=\"data row13 col4\" >0.0000</td>\n",
       "      <td id=\"T_39424_row13_col5\" class=\"data row13 col5\" >0.0000</td>\n",
       "      <td id=\"T_39424_row13_col6\" class=\"data row13 col6\" >0.0000</td>\n",
       "      <td id=\"T_39424_row13_col7\" class=\"data row13 col7\" >0.0000</td>\n",
       "      <td id=\"T_39424_row13_col8\" class=\"data row13 col8\" >0.0130</td>\n",
       "    </tr>\n",
       "  </tbody>\n",
       "</table>\n"
      ],
      "text/plain": [
       "<pandas.io.formats.style.Styler at 0x24bd5957c50>"
      ]
     },
     "metadata": {},
     "output_type": "display_data"
    },
    {
     "data": {
      "text/html": [],
      "text/plain": [
       "<IPython.core.display.HTML object>"
      ]
     },
     "metadata": {},
     "output_type": "display_data"
    },
    {
     "data": {
      "text/html": [],
      "text/plain": [
       "<IPython.core.display.HTML object>"
      ]
     },
     "metadata": {},
     "output_type": "display_data"
    },
    {
     "data": {
      "text/html": [
       "<style type=\"text/css\">\n",
       "#T_332e9_row10_col0, #T_332e9_row10_col1, #T_332e9_row10_col2, #T_332e9_row10_col3, #T_332e9_row10_col4, #T_332e9_row10_col5, #T_332e9_row10_col6 {\n",
       "  background: yellow;\n",
       "}\n",
       "</style>\n",
       "<table id=\"T_332e9\">\n",
       "  <thead>\n",
       "    <tr>\n",
       "      <th class=\"blank level0\" >&nbsp;</th>\n",
       "      <th id=\"T_332e9_level0_col0\" class=\"col_heading level0 col0\" >Accuracy</th>\n",
       "      <th id=\"T_332e9_level0_col1\" class=\"col_heading level0 col1\" >AUC</th>\n",
       "      <th id=\"T_332e9_level0_col2\" class=\"col_heading level0 col2\" >Recall</th>\n",
       "      <th id=\"T_332e9_level0_col3\" class=\"col_heading level0 col3\" >Prec.</th>\n",
       "      <th id=\"T_332e9_level0_col4\" class=\"col_heading level0 col4\" >F1</th>\n",
       "      <th id=\"T_332e9_level0_col5\" class=\"col_heading level0 col5\" >Kappa</th>\n",
       "      <th id=\"T_332e9_level0_col6\" class=\"col_heading level0 col6\" >MCC</th>\n",
       "    </tr>\n",
       "    <tr>\n",
       "      <th class=\"index_name level0\" >Fold</th>\n",
       "      <th class=\"blank col0\" >&nbsp;</th>\n",
       "      <th class=\"blank col1\" >&nbsp;</th>\n",
       "      <th class=\"blank col2\" >&nbsp;</th>\n",
       "      <th class=\"blank col3\" >&nbsp;</th>\n",
       "      <th class=\"blank col4\" >&nbsp;</th>\n",
       "      <th class=\"blank col5\" >&nbsp;</th>\n",
       "      <th class=\"blank col6\" >&nbsp;</th>\n",
       "    </tr>\n",
       "  </thead>\n",
       "  <tbody>\n",
       "    <tr>\n",
       "      <th id=\"T_332e9_level0_row0\" class=\"row_heading level0 row0\" >0</th>\n",
       "      <td id=\"T_332e9_row0_col0\" class=\"data row0 col0\" >0.9059</td>\n",
       "      <td id=\"T_332e9_row0_col1\" class=\"data row0 col1\" >0.9771</td>\n",
       "      <td id=\"T_332e9_row0_col2\" class=\"data row0 col2\" >0.9210</td>\n",
       "      <td id=\"T_332e9_row0_col3\" class=\"data row0 col3\" >0.8940</td>\n",
       "      <td id=\"T_332e9_row0_col4\" class=\"data row0 col4\" >0.9073</td>\n",
       "      <td id=\"T_332e9_row0_col5\" class=\"data row0 col5\" >0.8118</td>\n",
       "      <td id=\"T_332e9_row0_col6\" class=\"data row0 col6\" >0.8121</td>\n",
       "    </tr>\n",
       "    <tr>\n",
       "      <th id=\"T_332e9_level0_row1\" class=\"row_heading level0 row1\" >1</th>\n",
       "      <td id=\"T_332e9_row1_col0\" class=\"data row1 col0\" >0.9042</td>\n",
       "      <td id=\"T_332e9_row1_col1\" class=\"data row1 col1\" >0.9776</td>\n",
       "      <td id=\"T_332e9_row1_col2\" class=\"data row1 col2\" >0.8941</td>\n",
       "      <td id=\"T_332e9_row1_col3\" class=\"data row1 col3\" >0.9125</td>\n",
       "      <td id=\"T_332e9_row1_col4\" class=\"data row1 col4\" >0.9032</td>\n",
       "      <td id=\"T_332e9_row1_col5\" class=\"data row1 col5\" >0.8084</td>\n",
       "      <td id=\"T_332e9_row1_col6\" class=\"data row1 col6\" >0.8086</td>\n",
       "    </tr>\n",
       "    <tr>\n",
       "      <th id=\"T_332e9_level0_row2\" class=\"row_heading level0 row2\" >2</th>\n",
       "      <td id=\"T_332e9_row2_col0\" class=\"data row2 col0\" >0.9101</td>\n",
       "      <td id=\"T_332e9_row2_col1\" class=\"data row2 col1\" >0.9788</td>\n",
       "      <td id=\"T_332e9_row2_col2\" class=\"data row2 col2\" >0.9378</td>\n",
       "      <td id=\"T_332e9_row2_col3\" class=\"data row2 col3\" >0.8885</td>\n",
       "      <td id=\"T_332e9_row2_col4\" class=\"data row2 col4\" >0.9125</td>\n",
       "      <td id=\"T_332e9_row2_col5\" class=\"data row2 col5\" >0.8202</td>\n",
       "      <td id=\"T_332e9_row2_col6\" class=\"data row2 col6\" >0.8214</td>\n",
       "    </tr>\n",
       "    <tr>\n",
       "      <th id=\"T_332e9_level0_row3\" class=\"row_heading level0 row3\" >3</th>\n",
       "      <td id=\"T_332e9_row3_col0\" class=\"data row3 col0\" >0.9008</td>\n",
       "      <td id=\"T_332e9_row3_col1\" class=\"data row3 col1\" >0.9751</td>\n",
       "      <td id=\"T_332e9_row3_col2\" class=\"data row3 col2\" >0.9193</td>\n",
       "      <td id=\"T_332e9_row3_col3\" class=\"data row3 col3\" >0.8865</td>\n",
       "      <td id=\"T_332e9_row3_col4\" class=\"data row3 col4\" >0.9026</td>\n",
       "      <td id=\"T_332e9_row3_col5\" class=\"data row3 col5\" >0.8017</td>\n",
       "      <td id=\"T_332e9_row3_col6\" class=\"data row3 col6\" >0.8022</td>\n",
       "    </tr>\n",
       "    <tr>\n",
       "      <th id=\"T_332e9_level0_row4\" class=\"row_heading level0 row4\" >4</th>\n",
       "      <td id=\"T_332e9_row4_col0\" class=\"data row4 col0\" >0.9143</td>\n",
       "      <td id=\"T_332e9_row4_col1\" class=\"data row4 col1\" >0.9795</td>\n",
       "      <td id=\"T_332e9_row4_col2\" class=\"data row4 col2\" >0.9277</td>\n",
       "      <td id=\"T_332e9_row4_col3\" class=\"data row4 col3\" >0.9034</td>\n",
       "      <td id=\"T_332e9_row4_col4\" class=\"data row4 col4\" >0.9154</td>\n",
       "      <td id=\"T_332e9_row4_col5\" class=\"data row4 col5\" >0.8286</td>\n",
       "      <td id=\"T_332e9_row4_col6\" class=\"data row4 col6\" >0.8289</td>\n",
       "    </tr>\n",
       "    <tr>\n",
       "      <th id=\"T_332e9_level0_row5\" class=\"row_heading level0 row5\" >5</th>\n",
       "      <td id=\"T_332e9_row5_col0\" class=\"data row5 col0\" >0.9034</td>\n",
       "      <td id=\"T_332e9_row5_col1\" class=\"data row5 col1\" >0.9729</td>\n",
       "      <td id=\"T_332e9_row5_col2\" class=\"data row5 col2\" >0.9345</td>\n",
       "      <td id=\"T_332e9_row5_col3\" class=\"data row5 col3\" >0.8797</td>\n",
       "      <td id=\"T_332e9_row5_col4\" class=\"data row5 col4\" >0.9063</td>\n",
       "      <td id=\"T_332e9_row5_col5\" class=\"data row5 col5\" >0.8067</td>\n",
       "      <td id=\"T_332e9_row5_col6\" class=\"data row5 col6\" >0.8083</td>\n",
       "    </tr>\n",
       "    <tr>\n",
       "      <th id=\"T_332e9_level0_row6\" class=\"row_heading level0 row6\" >6</th>\n",
       "      <td id=\"T_332e9_row6_col0\" class=\"data row6 col0\" >0.8882</td>\n",
       "      <td id=\"T_332e9_row6_col1\" class=\"data row6 col1\" >0.9732</td>\n",
       "      <td id=\"T_332e9_row6_col2\" class=\"data row6 col2\" >0.9059</td>\n",
       "      <td id=\"T_332e9_row6_col3\" class=\"data row6 col3\" >0.8750</td>\n",
       "      <td id=\"T_332e9_row6_col4\" class=\"data row6 col4\" >0.8902</td>\n",
       "      <td id=\"T_332e9_row6_col5\" class=\"data row6 col5\" >0.7765</td>\n",
       "      <td id=\"T_332e9_row6_col6\" class=\"data row6 col6\" >0.7770</td>\n",
       "    </tr>\n",
       "    <tr>\n",
       "      <th id=\"T_332e9_level0_row7\" class=\"row_heading level0 row7\" >7</th>\n",
       "      <td id=\"T_332e9_row7_col0\" class=\"data row7 col0\" >0.8983</td>\n",
       "      <td id=\"T_332e9_row7_col1\" class=\"data row7 col1\" >0.9716</td>\n",
       "      <td id=\"T_332e9_row7_col2\" class=\"data row7 col2\" >0.9008</td>\n",
       "      <td id=\"T_332e9_row7_col3\" class=\"data row7 col3\" >0.8963</td>\n",
       "      <td id=\"T_332e9_row7_col4\" class=\"data row7 col4\" >0.8986</td>\n",
       "      <td id=\"T_332e9_row7_col5\" class=\"data row7 col5\" >0.7966</td>\n",
       "      <td id=\"T_332e9_row7_col6\" class=\"data row7 col6\" >0.7966</td>\n",
       "    </tr>\n",
       "    <tr>\n",
       "      <th id=\"T_332e9_level0_row8\" class=\"row_heading level0 row8\" >8</th>\n",
       "      <td id=\"T_332e9_row8_col0\" class=\"data row8 col0\" >0.9109</td>\n",
       "      <td id=\"T_332e9_row8_col1\" class=\"data row8 col1\" >0.9790</td>\n",
       "      <td id=\"T_332e9_row8_col2\" class=\"data row8 col2\" >0.9597</td>\n",
       "      <td id=\"T_332e9_row8_col3\" class=\"data row8 col3\" >0.8744</td>\n",
       "      <td id=\"T_332e9_row8_col4\" class=\"data row8 col4\" >0.9151</td>\n",
       "      <td id=\"T_332e9_row8_col5\" class=\"data row8 col5\" >0.8218</td>\n",
       "      <td id=\"T_332e9_row8_col6\" class=\"data row8 col6\" >0.8258</td>\n",
       "    </tr>\n",
       "    <tr>\n",
       "      <th id=\"T_332e9_level0_row9\" class=\"row_heading level0 row9\" >9</th>\n",
       "      <td id=\"T_332e9_row9_col0\" class=\"data row9 col0\" >0.9092</td>\n",
       "      <td id=\"T_332e9_row9_col1\" class=\"data row9 col1\" >0.9771</td>\n",
       "      <td id=\"T_332e9_row9_col2\" class=\"data row9 col2\" >0.9160</td>\n",
       "      <td id=\"T_332e9_row9_col3\" class=\"data row9 col3\" >0.9038</td>\n",
       "      <td id=\"T_332e9_row9_col4\" class=\"data row9 col4\" >0.9098</td>\n",
       "      <td id=\"T_332e9_row9_col5\" class=\"data row9 col5\" >0.8185</td>\n",
       "      <td id=\"T_332e9_row9_col6\" class=\"data row9 col6\" >0.8186</td>\n",
       "    </tr>\n",
       "    <tr>\n",
       "      <th id=\"T_332e9_level0_row10\" class=\"row_heading level0 row10\" >Mean</th>\n",
       "      <td id=\"T_332e9_row10_col0\" class=\"data row10 col0\" >0.9045</td>\n",
       "      <td id=\"T_332e9_row10_col1\" class=\"data row10 col1\" >0.9762</td>\n",
       "      <td id=\"T_332e9_row10_col2\" class=\"data row10 col2\" >0.9217</td>\n",
       "      <td id=\"T_332e9_row10_col3\" class=\"data row10 col3\" >0.8914</td>\n",
       "      <td id=\"T_332e9_row10_col4\" class=\"data row10 col4\" >0.9061</td>\n",
       "      <td id=\"T_332e9_row10_col5\" class=\"data row10 col5\" >0.8091</td>\n",
       "      <td id=\"T_332e9_row10_col6\" class=\"data row10 col6\" >0.8099</td>\n",
       "    </tr>\n",
       "    <tr>\n",
       "      <th id=\"T_332e9_level0_row11\" class=\"row_heading level0 row11\" >Std</th>\n",
       "      <td id=\"T_332e9_row11_col0\" class=\"data row11 col0\" >0.0071</td>\n",
       "      <td id=\"T_332e9_row11_col1\" class=\"data row11 col1\" >0.0027</td>\n",
       "      <td id=\"T_332e9_row11_col2\" class=\"data row11 col2\" >0.0184</td>\n",
       "      <td id=\"T_332e9_row11_col3\" class=\"data row11 col3\" >0.0122</td>\n",
       "      <td id=\"T_332e9_row11_col4\" class=\"data row11 col4\" >0.0074</td>\n",
       "      <td id=\"T_332e9_row11_col5\" class=\"data row11 col5\" >0.0143</td>\n",
       "      <td id=\"T_332e9_row11_col6\" class=\"data row11 col6\" >0.0147</td>\n",
       "    </tr>\n",
       "  </tbody>\n",
       "</table>\n"
      ],
      "text/plain": [
       "<pandas.io.formats.style.Styler at 0x24bd5958750>"
      ]
     },
     "metadata": {},
     "output_type": "display_data"
    },
    {
     "data": {
      "text/html": [],
      "text/plain": [
       "<IPython.core.display.HTML object>"
      ]
     },
     "metadata": {},
     "output_type": "display_data"
    },
    {
     "name": "stdout",
     "output_type": "stream",
     "text": [
      "Fitting 10 folds for each of 10 candidates, totalling 100 fits\n",
      "Original model was better than the tuned model, hence it will be returned. NOTE: The display metrics are for the tuned model (not the original one).\n",
      "AdaBoostClassifier(algorithm='SAMME.R', estimator=None, learning_rate=1.0,\n",
      "                   n_estimators=50, random_state=123)\n"
     ]
    },
    {
     "data": {
      "text/html": [],
      "text/plain": [
       "<IPython.core.display.HTML object>"
      ]
     },
     "metadata": {},
     "output_type": "display_data"
    },
    {
     "name": "stdout",
     "output_type": "stream",
     "text": [
      "Transformation Pipeline and Model Successfully Saved\n"
     ]
    },
    {
     "data": {
      "application/vnd.jupyter.widget-view+json": {
       "model_id": "3efdc7cb4c7549d0b99e65d7630e0566",
       "version_major": 2,
       "version_minor": 0
      },
      "text/plain": [
       "interactive(children=(ToggleButtons(description='Plot Type:', icons=('',), options=(('Pipeline Plot', 'pipelin…"
      ]
     },
     "metadata": {},
     "output_type": "display_data"
    },
    {
     "data": {
      "text/html": [],
      "text/plain": [
       "<IPython.core.display.HTML object>"
      ]
     },
     "metadata": {},
     "output_type": "display_data"
    },
    {
     "data": {
      "text/html": [
       "<style type=\"text/css\">\n",
       "</style>\n",
       "<table id=\"T_10e6c\">\n",
       "  <thead>\n",
       "    <tr>\n",
       "      <th class=\"blank level0\" >&nbsp;</th>\n",
       "      <th id=\"T_10e6c_level0_col0\" class=\"col_heading level0 col0\" >Model</th>\n",
       "      <th id=\"T_10e6c_level0_col1\" class=\"col_heading level0 col1\" >Accuracy</th>\n",
       "      <th id=\"T_10e6c_level0_col2\" class=\"col_heading level0 col2\" >AUC</th>\n",
       "      <th id=\"T_10e6c_level0_col3\" class=\"col_heading level0 col3\" >Recall</th>\n",
       "      <th id=\"T_10e6c_level0_col4\" class=\"col_heading level0 col4\" >Prec.</th>\n",
       "      <th id=\"T_10e6c_level0_col5\" class=\"col_heading level0 col5\" >F1</th>\n",
       "      <th id=\"T_10e6c_level0_col6\" class=\"col_heading level0 col6\" >Kappa</th>\n",
       "      <th id=\"T_10e6c_level0_col7\" class=\"col_heading level0 col7\" >MCC</th>\n",
       "    </tr>\n",
       "  </thead>\n",
       "  <tbody>\n",
       "    <tr>\n",
       "      <th id=\"T_10e6c_level0_row0\" class=\"row_heading level0 row0\" >0</th>\n",
       "      <td id=\"T_10e6c_row0_col0\" class=\"data row0 col0\" >Ada Boost Classifier</td>\n",
       "      <td id=\"T_10e6c_row0_col1\" class=\"data row0 col1\" >0.9125</td>\n",
       "      <td id=\"T_10e6c_row0_col2\" class=\"data row0 col2\" >0.9802</td>\n",
       "      <td id=\"T_10e6c_row0_col3\" class=\"data row0 col3\" >0.9137</td>\n",
       "      <td id=\"T_10e6c_row0_col4\" class=\"data row0 col4\" >0.9116</td>\n",
       "      <td id=\"T_10e6c_row0_col5\" class=\"data row0 col5\" >0.9127</td>\n",
       "      <td id=\"T_10e6c_row0_col6\" class=\"data row0 col6\" >0.8251</td>\n",
       "      <td id=\"T_10e6c_row0_col7\" class=\"data row0 col7\" >0.8251</td>\n",
       "    </tr>\n",
       "  </tbody>\n",
       "</table>\n"
      ],
      "text/plain": [
       "<pandas.io.formats.style.Styler at 0x24bd7b4dfd0>"
      ]
     },
     "metadata": {},
     "output_type": "display_data"
    },
    {
     "data": {
      "application/vnd.jupyter.widget-view+json": {
       "model_id": "cabadeed081d461583b10bba1d9d05d1",
       "version_major": 2,
       "version_minor": 0
      },
      "text/plain": [
       "VBox(children=(Label(value='0.060 MB of 0.060 MB uploaded\\r'), FloatProgress(value=1.0, max=1.0)))"
      ]
     },
     "metadata": {},
     "output_type": "display_data"
    },
    {
     "data": {
      "text/html": [
       " View run <strong style=\"color:#cdcd00\">pious-microwave-27</strong> at: <a href='https://wandb.ai/ana-pegado-121-ufrn/diabetes-classification/runs/n9imf1ld' target=\"_blank\">https://wandb.ai/ana-pegado-121-ufrn/diabetes-classification/runs/n9imf1ld</a><br/> View project at: <a href='https://wandb.ai/ana-pegado-121-ufrn/diabetes-classification' target=\"_blank\">https://wandb.ai/ana-pegado-121-ufrn/diabetes-classification</a><br/>Synced 5 W&B file(s), 0 media file(s), 2 artifact file(s) and 3 other file(s)"
      ],
      "text/plain": [
       "<IPython.core.display.HTML object>"
      ]
     },
     "metadata": {},
     "output_type": "display_data"
    },
    {
     "data": {
      "text/html": [
       "Find logs at: <code>.\\wandb\\run-20250118_190255-n9imf1ld\\logs</code>"
      ],
      "text/plain": [
       "<IPython.core.display.HTML object>"
      ]
     },
     "metadata": {},
     "output_type": "display_data"
    }
   ],
   "source": [
    "def build_model():\n",
    "    df = balance_df()\n",
    "    set_expectations(df)\n",
    "    find_model()\n",
    "\n",
    "build_model()"
   ]
  },
  {
   "cell_type": "code",
   "execution_count": 83,
   "metadata": {},
   "outputs": [
    {
     "name": "stdout",
     "output_type": "stream",
     "text": [
      "============================= test session starts =============================\n",
      "platform win32 -- Python 3.11.9, pytest-8.3.4, pluggy-1.5.0\n",
      "rootdir: C:\\Users\\abia0\\OneDrive\\Área de Trabalho\\Projetos\\Faculdade\\topicos_especiais\\Diabetes-Classification\\Diabetes-Prediction\n",
      "plugins: anyio-4.6.2.post1, dash-2.18.2\n",
      "collected 6 items\n",
      "\n",
      "Tests\\test_diabetes_classification.py ......                             [100%]\n",
      "\n",
      "============================== 6 passed in 0.82s ==============================\n"
     ]
    }
   ],
   "source": [
    "!pytest Tests/test_diabetes_classification.py"
   ]
  }
 ],
 "metadata": {
  "colab": {
   "provenance": []
  },
  "kernelspec": {
   "display_name": "Python 3 (ipykernel)",
   "language": "python",
   "name": "python3"
  },
  "language_info": {
   "codemirror_mode": {
    "name": "ipython",
    "version": 3
   },
   "file_extension": ".py",
   "mimetype": "text/x-python",
   "name": "python",
   "nbconvert_exporter": "python",
   "pygments_lexer": "ipython3",
   "version": "3.11.9"
  },
  "widgets": {
   "application/vnd.jupyter.widget-state+json": {
    "18415f31ffa040369ebf796f1cd5f128": {
     "model_module": "@jupyter-widgets/base",
     "model_module_version": "1.2.0",
     "model_name": "LayoutModel",
     "state": {
      "_model_module": "@jupyter-widgets/base",
      "_model_module_version": "1.2.0",
      "_model_name": "LayoutModel",
      "_view_count": null,
      "_view_module": "@jupyter-widgets/base",
      "_view_module_version": "1.2.0",
      "_view_name": "LayoutView",
      "align_content": null,
      "align_items": null,
      "align_self": null,
      "border": null,
      "bottom": null,
      "display": null,
      "flex": null,
      "flex_flow": null,
      "grid_area": null,
      "grid_auto_columns": null,
      "grid_auto_flow": null,
      "grid_auto_rows": null,
      "grid_column": null,
      "grid_gap": null,
      "grid_row": null,
      "grid_template_areas": null,
      "grid_template_columns": null,
      "grid_template_rows": null,
      "height": null,
      "justify_content": null,
      "justify_items": null,
      "left": null,
      "margin": null,
      "max_height": null,
      "max_width": null,
      "min_height": null,
      "min_width": null,
      "object_fit": null,
      "object_position": null,
      "order": null,
      "overflow": null,
      "overflow_x": null,
      "overflow_y": null,
      "padding": null,
      "right": null,
      "top": null,
      "visibility": "hidden",
      "width": null
     }
    },
    "2b5cac012271479591ce3a49cf4bbd1e": {
     "model_module": "@jupyter-widgets/controls",
     "model_module_version": "1.5.0",
     "model_name": "VBoxModel",
     "state": {
      "_dom_classes": [
       "widget-interact"
      ],
      "_model_module": "@jupyter-widgets/controls",
      "_model_module_version": "1.5.0",
      "_model_name": "VBoxModel",
      "_view_count": null,
      "_view_module": "@jupyter-widgets/controls",
      "_view_module_version": "1.5.0",
      "_view_name": "VBoxView",
      "box_style": "",
      "children": [
       "IPY_MODEL_8c7c7d6034c9471281486bfb1629d287",
       "IPY_MODEL_7bd0ed79ec0a440a86ce33264970e29e"
      ],
      "layout": "IPY_MODEL_6267b9cb12054d1bada5565ff02fe446"
     }
    },
    "35275507c6b34328a55e485f0ac65f7c": {
     "model_module": "@jupyter-widgets/controls",
     "model_module_version": "1.5.0",
     "model_name": "HTMLModel",
     "state": {
      "_dom_classes": [],
      "_model_module": "@jupyter-widgets/controls",
      "_model_module_version": "1.5.0",
      "_model_name": "HTMLModel",
      "_view_count": null,
      "_view_module": "@jupyter-widgets/controls",
      "_view_module_version": "1.5.0",
      "_view_name": "HTMLView",
      "description": "",
      "description_tooltip": null,
      "layout": "IPY_MODEL_82fdc2dc56d6495ab8aba28a2c127a1a",
      "placeholder": "​",
      "style": "IPY_MODEL_991304f9c63c485da13d1cb3fdff15e8",
      "value": "Processing: 100%"
     }
    },
    "4c699eec2fc74d93b3f2fba18b9bdfe4": {
     "model_module": "@jupyter-widgets/controls",
     "model_module_version": "1.5.0",
     "model_name": "ProgressStyleModel",
     "state": {
      "_model_module": "@jupyter-widgets/controls",
      "_model_module_version": "1.5.0",
      "_model_name": "ProgressStyleModel",
      "_view_count": null,
      "_view_module": "@jupyter-widgets/base",
      "_view_module_version": "1.2.0",
      "_view_name": "StyleView",
      "bar_color": null,
      "description_width": ""
     }
    },
    "51691a6da9e2435ba91fe38ef80891cc": {
     "model_module": "@jupyter-widgets/base",
     "model_module_version": "1.2.0",
     "model_name": "LayoutModel",
     "state": {
      "_model_module": "@jupyter-widgets/base",
      "_model_module_version": "1.2.0",
      "_model_name": "LayoutModel",
      "_view_count": null,
      "_view_module": "@jupyter-widgets/base",
      "_view_module_version": "1.2.0",
      "_view_name": "LayoutView",
      "align_content": null,
      "align_items": null,
      "align_self": null,
      "border": null,
      "bottom": null,
      "display": null,
      "flex": null,
      "flex_flow": null,
      "grid_area": null,
      "grid_auto_columns": null,
      "grid_auto_flow": null,
      "grid_auto_rows": null,
      "grid_column": null,
      "grid_gap": null,
      "grid_row": null,
      "grid_template_areas": null,
      "grid_template_columns": null,
      "grid_template_rows": null,
      "height": null,
      "justify_content": null,
      "justify_items": null,
      "left": null,
      "margin": null,
      "max_height": null,
      "max_width": null,
      "min_height": null,
      "min_width": null,
      "object_fit": null,
      "object_position": null,
      "order": null,
      "overflow": null,
      "overflow_x": null,
      "overflow_y": null,
      "padding": null,
      "right": null,
      "top": null,
      "visibility": null,
      "width": null
     }
    },
    "6267b9cb12054d1bada5565ff02fe446": {
     "model_module": "@jupyter-widgets/base",
     "model_module_version": "1.2.0",
     "model_name": "LayoutModel",
     "state": {
      "_model_module": "@jupyter-widgets/base",
      "_model_module_version": "1.2.0",
      "_model_name": "LayoutModel",
      "_view_count": null,
      "_view_module": "@jupyter-widgets/base",
      "_view_module_version": "1.2.0",
      "_view_name": "LayoutView",
      "align_content": null,
      "align_items": null,
      "align_self": null,
      "border": null,
      "bottom": null,
      "display": null,
      "flex": null,
      "flex_flow": null,
      "grid_area": null,
      "grid_auto_columns": null,
      "grid_auto_flow": null,
      "grid_auto_rows": null,
      "grid_column": null,
      "grid_gap": null,
      "grid_row": null,
      "grid_template_areas": null,
      "grid_template_columns": null,
      "grid_template_rows": null,
      "height": null,
      "justify_content": null,
      "justify_items": null,
      "left": null,
      "margin": null,
      "max_height": null,
      "max_width": null,
      "min_height": null,
      "min_width": null,
      "object_fit": null,
      "object_position": null,
      "order": null,
      "overflow": null,
      "overflow_x": null,
      "overflow_y": null,
      "padding": null,
      "right": null,
      "top": null,
      "visibility": null,
      "width": null
     }
    },
    "662020745ac94498b2dcfbb0a2dab086": {
     "model_module": "@jupyter-widgets/controls",
     "model_module_version": "1.5.0",
     "model_name": "FloatProgressModel",
     "state": {
      "_dom_classes": [],
      "_model_module": "@jupyter-widgets/controls",
      "_model_module_version": "1.5.0",
      "_model_name": "FloatProgressModel",
      "_view_count": null,
      "_view_module": "@jupyter-widgets/controls",
      "_view_module_version": "1.5.0",
      "_view_name": "ProgressView",
      "bar_style": "",
      "description": "",
      "description_tooltip": null,
      "layout": "IPY_MODEL_7e881ed6050b485cb6f6c17723136d0e",
      "max": 65,
      "min": 0,
      "orientation": "horizontal",
      "style": "IPY_MODEL_4c699eec2fc74d93b3f2fba18b9bdfe4",
      "value": 65
     }
    },
    "6898246583cb4d42a46789e2cf14c7ba": {
     "model_module": "@jupyter-widgets/controls",
     "model_module_version": "1.5.0",
     "model_name": "HTMLModel",
     "state": {
      "_dom_classes": [],
      "_model_module": "@jupyter-widgets/controls",
      "_model_module_version": "1.5.0",
      "_model_name": "HTMLModel",
      "_view_count": null,
      "_view_module": "@jupyter-widgets/controls",
      "_view_module_version": "1.5.0",
      "_view_name": "HTMLView",
      "description": "",
      "description_tooltip": null,
      "layout": "IPY_MODEL_51691a6da9e2435ba91fe38ef80891cc",
      "placeholder": "​",
      "style": "IPY_MODEL_c6743865112240bb8f7fe58497e11cac",
      "value": " 65/65 [01:35&lt;00:00,  1.10s/it]"
     }
    },
    "7897e34513974d41ab9b19bc5d1d0a5d": {
     "model_module": "@jupyter-widgets/base",
     "model_module_version": "1.2.0",
     "model_name": "LayoutModel",
     "state": {
      "_model_module": "@jupyter-widgets/base",
      "_model_module_version": "1.2.0",
      "_model_name": "LayoutModel",
      "_view_count": null,
      "_view_module": "@jupyter-widgets/base",
      "_view_module_version": "1.2.0",
      "_view_name": "LayoutView",
      "align_content": null,
      "align_items": null,
      "align_self": null,
      "border": null,
      "bottom": null,
      "display": null,
      "flex": null,
      "flex_flow": null,
      "grid_area": null,
      "grid_auto_columns": null,
      "grid_auto_flow": null,
      "grid_auto_rows": null,
      "grid_column": null,
      "grid_gap": null,
      "grid_row": null,
      "grid_template_areas": null,
      "grid_template_columns": null,
      "grid_template_rows": null,
      "height": null,
      "justify_content": null,
      "justify_items": null,
      "left": null,
      "margin": null,
      "max_height": null,
      "max_width": null,
      "min_height": null,
      "min_width": null,
      "object_fit": null,
      "object_position": null,
      "order": null,
      "overflow": null,
      "overflow_x": null,
      "overflow_y": null,
      "padding": null,
      "right": null,
      "top": null,
      "visibility": null,
      "width": null
     }
    },
    "7bd0ed79ec0a440a86ce33264970e29e": {
     "model_module": "@jupyter-widgets/output",
     "model_module_version": "1.0.0",
     "model_name": "OutputModel",
     "state": {
      "_dom_classes": [],
      "_model_module": "@jupyter-widgets/output",
      "_model_module_version": "1.0.0",
      "_model_name": "OutputModel",
      "_view_count": null,
      "_view_module": "@jupyter-widgets/output",
      "_view_module_version": "1.0.0",
      "_view_name": "OutputView",
      "layout": "IPY_MODEL_b527b2ee9d354b878588d06cedd5d935",
      "msg_id": "",
      "outputs": [
       {
        "data": {
         "image/png": "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\n",
         "text/plain": "<Figure size 1700x600 with 1 Axes>"
        },
        "metadata": {},
        "output_type": "display_data"
       }
      ]
     }
    },
    "7e881ed6050b485cb6f6c17723136d0e": {
     "model_module": "@jupyter-widgets/base",
     "model_module_version": "1.2.0",
     "model_name": "LayoutModel",
     "state": {
      "_model_module": "@jupyter-widgets/base",
      "_model_module_version": "1.2.0",
      "_model_name": "LayoutModel",
      "_view_count": null,
      "_view_module": "@jupyter-widgets/base",
      "_view_module_version": "1.2.0",
      "_view_name": "LayoutView",
      "align_content": null,
      "align_items": null,
      "align_self": null,
      "border": null,
      "bottom": null,
      "display": null,
      "flex": null,
      "flex_flow": null,
      "grid_area": null,
      "grid_auto_columns": null,
      "grid_auto_flow": null,
      "grid_auto_rows": null,
      "grid_column": null,
      "grid_gap": null,
      "grid_row": null,
      "grid_template_areas": null,
      "grid_template_columns": null,
      "grid_template_rows": null,
      "height": null,
      "justify_content": null,
      "justify_items": null,
      "left": null,
      "margin": null,
      "max_height": null,
      "max_width": null,
      "min_height": null,
      "min_width": null,
      "object_fit": null,
      "object_position": null,
      "order": null,
      "overflow": null,
      "overflow_x": null,
      "overflow_y": null,
      "padding": null,
      "right": null,
      "top": null,
      "visibility": null,
      "width": null
     }
    },
    "82fdc2dc56d6495ab8aba28a2c127a1a": {
     "model_module": "@jupyter-widgets/base",
     "model_module_version": "1.2.0",
     "model_name": "LayoutModel",
     "state": {
      "_model_module": "@jupyter-widgets/base",
      "_model_module_version": "1.2.0",
      "_model_name": "LayoutModel",
      "_view_count": null,
      "_view_module": "@jupyter-widgets/base",
      "_view_module_version": "1.2.0",
      "_view_name": "LayoutView",
      "align_content": null,
      "align_items": null,
      "align_self": null,
      "border": null,
      "bottom": null,
      "display": null,
      "flex": null,
      "flex_flow": null,
      "grid_area": null,
      "grid_auto_columns": null,
      "grid_auto_flow": null,
      "grid_auto_rows": null,
      "grid_column": null,
      "grid_gap": null,
      "grid_row": null,
      "grid_template_areas": null,
      "grid_template_columns": null,
      "grid_template_rows": null,
      "height": null,
      "justify_content": null,
      "justify_items": null,
      "left": null,
      "margin": null,
      "max_height": null,
      "max_width": null,
      "min_height": null,
      "min_width": null,
      "object_fit": null,
      "object_position": null,
      "order": null,
      "overflow": null,
      "overflow_x": null,
      "overflow_y": null,
      "padding": null,
      "right": null,
      "top": null,
      "visibility": null,
      "width": null
     }
    },
    "8c7c7d6034c9471281486bfb1629d287": {
     "model_module": "@jupyter-widgets/controls",
     "model_module_version": "1.5.0",
     "model_name": "ToggleButtonsModel",
     "state": {
      "_dom_classes": [],
      "_model_module": "@jupyter-widgets/controls",
      "_model_module_version": "1.5.0",
      "_model_name": "ToggleButtonsModel",
      "_options_labels": [
       "Pipeline Plot",
       "Hyperparameters",
       "AUC",
       "Confusion Matrix",
       "Threshold",
       "Precision Recall",
       "Prediction Error",
       "Class Report",
       "Feature Selection",
       "Learning Curve",
       "Manifold Learning",
       "Calibration Curve",
       "Validation Curve",
       "Dimensions",
       "Feature Importance",
       "Feature Importance (All)",
       "Decision Boundary",
       "Lift Chart",
       "Gain Chart",
       "Decision Tree",
       "KS Statistic Plot"
      ],
      "_view_count": null,
      "_view_module": "@jupyter-widgets/controls",
      "_view_module_version": "1.5.0",
      "_view_name": "ToggleButtonsView",
      "button_style": "",
      "description": "Plot Type:",
      "description_tooltip": null,
      "disabled": false,
      "icons": [
       ""
      ],
      "index": 0,
      "layout": "IPY_MODEL_7897e34513974d41ab9b19bc5d1d0a5d",
      "style": "IPY_MODEL_bedbe419113d41608725a6d8b96ca2d3",
      "tooltips": []
     }
    },
    "991304f9c63c485da13d1cb3fdff15e8": {
     "model_module": "@jupyter-widgets/controls",
     "model_module_version": "1.5.0",
     "model_name": "DescriptionStyleModel",
     "state": {
      "_model_module": "@jupyter-widgets/controls",
      "_model_module_version": "1.5.0",
      "_model_name": "DescriptionStyleModel",
      "_view_count": null,
      "_view_module": "@jupyter-widgets/base",
      "_view_module_version": "1.2.0",
      "_view_name": "StyleView",
      "description_width": ""
     }
    },
    "b527b2ee9d354b878588d06cedd5d935": {
     "model_module": "@jupyter-widgets/base",
     "model_module_version": "1.2.0",
     "model_name": "LayoutModel",
     "state": {
      "_model_module": "@jupyter-widgets/base",
      "_model_module_version": "1.2.0",
      "_model_name": "LayoutModel",
      "_view_count": null,
      "_view_module": "@jupyter-widgets/base",
      "_view_module_version": "1.2.0",
      "_view_name": "LayoutView",
      "align_content": null,
      "align_items": null,
      "align_self": null,
      "border": null,
      "bottom": null,
      "display": null,
      "flex": null,
      "flex_flow": null,
      "grid_area": null,
      "grid_auto_columns": null,
      "grid_auto_flow": null,
      "grid_auto_rows": null,
      "grid_column": null,
      "grid_gap": null,
      "grid_row": null,
      "grid_template_areas": null,
      "grid_template_columns": null,
      "grid_template_rows": null,
      "height": null,
      "justify_content": null,
      "justify_items": null,
      "left": null,
      "margin": null,
      "max_height": null,
      "max_width": null,
      "min_height": null,
      "min_width": null,
      "object_fit": null,
      "object_position": null,
      "order": null,
      "overflow": null,
      "overflow_x": null,
      "overflow_y": null,
      "padding": null,
      "right": null,
      "top": null,
      "visibility": null,
      "width": null
     }
    },
    "bedbe419113d41608725a6d8b96ca2d3": {
     "model_module": "@jupyter-widgets/controls",
     "model_module_version": "1.5.0",
     "model_name": "ToggleButtonsStyleModel",
     "state": {
      "_model_module": "@jupyter-widgets/controls",
      "_model_module_version": "1.5.0",
      "_model_name": "ToggleButtonsStyleModel",
      "_view_count": null,
      "_view_module": "@jupyter-widgets/base",
      "_view_module_version": "1.2.0",
      "_view_name": "StyleView",
      "button_width": "",
      "description_width": "",
      "font_weight": ""
     }
    },
    "c6743865112240bb8f7fe58497e11cac": {
     "model_module": "@jupyter-widgets/controls",
     "model_module_version": "1.5.0",
     "model_name": "DescriptionStyleModel",
     "state": {
      "_model_module": "@jupyter-widgets/controls",
      "_model_module_version": "1.5.0",
      "_model_name": "DescriptionStyleModel",
      "_view_count": null,
      "_view_module": "@jupyter-widgets/base",
      "_view_module_version": "1.2.0",
      "_view_name": "StyleView",
      "description_width": ""
     }
    },
    "ff432b32831f4fdf8538f5ae191b8707": {
     "model_module": "@jupyter-widgets/controls",
     "model_module_version": "1.5.0",
     "model_name": "HBoxModel",
     "state": {
      "_dom_classes": [],
      "_model_module": "@jupyter-widgets/controls",
      "_model_module_version": "1.5.0",
      "_model_name": "HBoxModel",
      "_view_count": null,
      "_view_module": "@jupyter-widgets/controls",
      "_view_module_version": "1.5.0",
      "_view_name": "HBoxView",
      "box_style": "",
      "children": [
       "IPY_MODEL_35275507c6b34328a55e485f0ac65f7c",
       "IPY_MODEL_662020745ac94498b2dcfbb0a2dab086",
       "IPY_MODEL_6898246583cb4d42a46789e2cf14c7ba"
      ],
      "layout": "IPY_MODEL_18415f31ffa040369ebf796f1cd5f128"
     }
    }
   }
  }
 },
 "nbformat": 4,
 "nbformat_minor": 4
}
